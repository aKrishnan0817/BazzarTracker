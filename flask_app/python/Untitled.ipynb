{
 "cells": [
  {
   "cell_type": "code",
   "execution_count": 50,
   "metadata": {},
   "outputs": [],
   "source": [
    "import numpy as np\n",
    "import pandas as pd"
   ]
  },
  {
   "cell_type": "code",
   "execution_count": 51,
   "metadata": {},
   "outputs": [],
   "source": [
    "products = pd.read_json('https://api.hypixel.net/skyblock/bazaar/products?key=892d18b2-f0a7-407b-93a7-90d158616f32')\n",
    "products.to_csv('products.csv')"
   ]
  },
  {
   "cell_type": "code",
   "execution_count": 52,
   "metadata": {},
   "outputs": [
    {
     "name": "stdout",
     "output_type": "stream",
     "text": [
      "ENCHANTED_SLIME_BALL.csv  Untitled.ipynb            products.csv\r\n"
     ]
    }
   ],
   "source": [
    "%ls"
   ]
  },
  {
   "cell_type": "code",
   "execution_count": 53,
   "metadata": {},
   "outputs": [],
   "source": [
    "products = pd.read_csv('products.csv')"
   ]
  },
  {
   "cell_type": "code",
   "execution_count": 54,
   "metadata": {},
   "outputs": [
    {
     "data": {
      "text/html": [
       "<div>\n",
       "<style scoped>\n",
       "    .dataframe tbody tr th:only-of-type {\n",
       "        vertical-align: middle;\n",
       "    }\n",
       "\n",
       "    .dataframe tbody tr th {\n",
       "        vertical-align: top;\n",
       "    }\n",
       "\n",
       "    .dataframe thead th {\n",
       "        text-align: right;\n",
       "    }\n",
       "</style>\n",
       "<table border=\"1\" class=\"dataframe\">\n",
       "  <thead>\n",
       "    <tr style=\"text-align: right;\">\n",
       "      <th></th>\n",
       "      <th>Unnamed: 0</th>\n",
       "      <th>success</th>\n",
       "      <th>productIds</th>\n",
       "      <th>warning</th>\n",
       "    </tr>\n",
       "  </thead>\n",
       "  <tbody>\n",
       "    <tr>\n",
       "      <th>0</th>\n",
       "      <td>0</td>\n",
       "      <td>True</td>\n",
       "      <td>INK_SACK:3</td>\n",
       "      <td>This endpoint is deprecated and will soon be d...</td>\n",
       "    </tr>\n",
       "    <tr>\n",
       "      <th>1</th>\n",
       "      <td>1</td>\n",
       "      <td>True</td>\n",
       "      <td>BROWN_MUSHROOM</td>\n",
       "      <td>This endpoint is deprecated and will soon be d...</td>\n",
       "    </tr>\n",
       "    <tr>\n",
       "      <th>2</th>\n",
       "      <td>2</td>\n",
       "      <td>True</td>\n",
       "      <td>INK_SACK:4</td>\n",
       "      <td>This endpoint is deprecated and will soon be d...</td>\n",
       "    </tr>\n",
       "    <tr>\n",
       "      <th>3</th>\n",
       "      <td>3</td>\n",
       "      <td>True</td>\n",
       "      <td>TARANTULA_WEB</td>\n",
       "      <td>This endpoint is deprecated and will soon be d...</td>\n",
       "    </tr>\n",
       "    <tr>\n",
       "      <th>4</th>\n",
       "      <td>4</td>\n",
       "      <td>True</td>\n",
       "      <td>CARROT_ITEM</td>\n",
       "      <td>This endpoint is deprecated and will soon be d...</td>\n",
       "    </tr>\n",
       "  </tbody>\n",
       "</table>\n",
       "</div>"
      ],
      "text/plain": [
       "   Unnamed: 0  success      productIds  \\\n",
       "0           0     True      INK_SACK:3   \n",
       "1           1     True  BROWN_MUSHROOM   \n",
       "2           2     True      INK_SACK:4   \n",
       "3           3     True   TARANTULA_WEB   \n",
       "4           4     True     CARROT_ITEM   \n",
       "\n",
       "                                             warning  \n",
       "0  This endpoint is deprecated and will soon be d...  \n",
       "1  This endpoint is deprecated and will soon be d...  \n",
       "2  This endpoint is deprecated and will soon be d...  \n",
       "3  This endpoint is deprecated and will soon be d...  \n",
       "4  This endpoint is deprecated and will soon be d...  "
      ]
     },
     "execution_count": 54,
     "metadata": {},
     "output_type": "execute_result"
    }
   ],
   "source": [
    "products.head(5)"
   ]
  },
  {
   "cell_type": "code",
   "execution_count": 55,
   "metadata": {},
   "outputs": [],
   "source": [
    "#take only product ids from product list and convert to type list instead of pd list\n",
    "productList = list(products.loc[:,'productIds'])"
   ]
  },
  {
   "cell_type": "code",
   "execution_count": 56,
   "metadata": {},
   "outputs": [
    {
     "name": "stdout",
     "output_type": "stream",
     "text": [
      "['INK_SACK:3', 'BROWN_MUSHROOM', 'INK_SACK:4', 'TARANTULA_WEB', 'CARROT_ITEM', 'ENCHANTED_POTATO', 'ENCHANTED_SLIME_BALL', 'ENCHANTED_RED_MUSHROOM', 'ENCHANTED_GOLDEN_CARROT', 'ENCHANTED_RABBIT_HIDE', 'ENCHANTED_BIRCH_LOG', 'ENCHANTED_GUNPOWDER', 'ENCHANTED_MELON', 'ENCHANTED_SUGAR', 'CACTUS', 'ENCHANTED_BLAZE_ROD', 'ENCHANTED_CAKE', 'PUMPKIN', 'ENCHANTED_BROWN_MUSHROOM', 'WHEAT', 'ENCHANTED_RAW_SALMON', 'ENCHANTED_GLISTERING_MELON', 'PRISMARINE_SHARD', 'ENCHANTED_EMERALD', 'PROTECTOR_FRAGMENT', 'ENCHANTED_SPIDER_EYE', 'RED_MUSHROOM', 'MUTTON', 'ENCHANTED_MELON_BLOCK', 'DIAMOND', 'WISE_FRAGMENT', 'COBBLESTONE', 'RAW_FISH', 'SPIDER_EYE', 'ENCHANTED_PUFFERFISH', 'POTATO_ITEM', 'ENCHANTED_HUGE_MUSHROOM_1', 'ENCHANTED_COBBLESTONE', 'ENCHANTED_HUGE_MUSHROOM_2', 'PORK', 'PRISMARINE_CRYSTALS', 'ICE', 'HUGE_MUSHROOM_1', 'HUGE_MUSHROOM_2', 'LOG_2:1', 'ENCHANTED_SNOW_BLOCK', 'STRING', 'GOLDEN_TOOTH', 'RABBIT_FOOT', 'REDSTONE', 'ENCHANTED_CACTUS_GREEN', 'ENCHANTED_CARROT_ON_A_STICK', 'ENCHANTED_LAPIS_LAZULI_BLOCK', 'ENCHANTED_COOKIE', 'ENCHANTED_ENDSTONE', 'ENCHANTED_SAND', 'ENCHANTED_STRING', 'STRONG_FRAGMENT', 'SLIME_BALL', 'SNOW_BALL', 'ENCHANTED_ACACIA_LOG', 'ENCHANTED_EGG', 'SAND', 'RAW_CHICKEN', 'ENCHANTED_LAPIS_LAZULI', 'ENCHANTED_GHAST_TEAR', 'ENCHANTED_COCOA', 'SEEDS', 'ENCHANTED_LEATHER', 'ENCHANTED_SPONGE', 'HAY_BLOCK', 'FLINT', 'INK_SACK', 'ENCHANTED_SPRUCE_LOG', 'ENCHANTED_ROTTEN_FLESH', 'WOLF_TOOTH', 'ENCHANTED_GRILLED_PORK', 'ENCHANTED_NETHER_STALK', 'ENCHANTED_REDSTONE_BLOCK', 'ENCHANTED_QUARTZ_BLOCK', 'GREEN_CANDY', 'ENCHANTED_REDSTONE', 'ENCHANTED_REDSTONE_LAMP', 'GRAVEL', 'MELON', 'ENCHANTED_PACKED_ICE', 'ENCHANTED_LAVA_BUCKET', 'RAW_FISH:3', 'ENCHANTED_PRISMARINE_SHARD', 'ENCHANTED_IRON_BLOCK', 'BONE', 'RAW_FISH:2', 'RAW_FISH:1', 'REVENANT_FLESH', 'ENCHANTED_PORK', 'ENCHANTED_GLOWSTONE', 'FEATHER', 'NETHERRACK', 'SPONGE', 'BLAZE_ROD', 'ENCHANTED_DARK_OAK_LOG', 'YOUNG_FRAGMENT', 'ENCHANTED_CLOWNFISH', 'ENCHANTED_GOLD', 'ENCHANTED_RAW_CHICKEN', 'ENCHANTED_WATER_LILY', 'LOG:1', 'CATALYST', 'LOG:3', 'LOG:2', 'ENCHANTED_GLOWSTONE_DUST', 'ENCHANTED_INK_SACK', 'ENCHANTED_CACTUS', 'ENCHANTED_SUGAR_CANE', 'ENCHANTED_COOKED_SALMON', 'ENCHANTED_SEEDS', 'LOG', 'GHAST_TEAR', 'UNSTABLE_FRAGMENT', 'ENCHANTED_ENDER_PEARL', 'PURPLE_CANDY', 'ENCHANTED_FERMENTED_SPIDER_EYE', 'ENCHANTED_GOLD_BLOCK', 'ENCHANTED_JUNGLE_LOG', 'ENCHANTED_FLINT', 'IRON_INGOT', 'ENCHANTED_EMERALD_BLOCK', 'ENCHANTED_CLAY_BALL', 'GLOWSTONE_DUST', 'GOLD_INGOT', 'REVENANT_VISCERA', 'TARANTULA_SILK', 'ENCHANTED_MUTTON', 'ENCHANTED_IRON', 'SUPER_COMPACTOR_3000', 'SUPER_EGG', 'STOCK_OF_STONKS', 'ENCHANTED_HAY_BLOCK', 'ENCHANTED_BONE', 'ENCHANTED_PAPER', 'ENCHANTED_DIAMOND_BLOCK', 'SUPERIOR_FRAGMENT', 'EMERALD', 'ENCHANTED_RABBIT_FOOT', 'HOT_POTATO_BOOK', 'ENCHANTED_ICE', 'CLAY_BALL', 'OLD_FRAGMENT', 'GREEN_GIFT', 'PACKED_ICE', 'WATER_LILY', 'HAMSTER_WHEEL', 'LOG_2', 'ENCHANTED_OBSIDIAN', 'ENCHANTED_COAL', 'COAL', 'ENCHANTED_QUARTZ', 'ENDER_PEARL', 'ENCHANTED_COAL_BLOCK', 'ENCHANTED_PRISMARINE_CRYSTALS', 'ENCHANTED_WET_SPONGE', 'ENCHANTED_RAW_FISH', 'ENDER_STONE', 'FOUL_FLESH', 'QUARTZ', 'RAW_BEEF', 'ENCHANTED_EYE_OF_ENDER', 'SUGAR_CANE', 'MAGMA_CREAM', 'RED_GIFT', 'ENCHANTED_RAW_BEEF', 'ENCHANTED_SLIME_BLOCK', 'ENCHANTED_FEATHER', 'ENCHANTED_OAK_LOG', 'RABBIT_HIDE', 'WHITE_GIFT', 'RABBIT', 'SULPHUR', 'NETHER_STALK', 'ENCHANTED_CARROT', 'ENCHANTED_PUMPKIN', 'ROTTEN_FLESH', 'ENCHANTED_COOKED_FISH', 'OBSIDIAN', 'ENCHANTED_MAGMA_CREAM', 'ENCHANTED_FIREWORK_ROCKET', 'LEATHER', 'ENCHANTED_COOKED_MUTTON', 'ENCHANTED_RABBIT', 'ENCHANTED_BREAD', 'ENCHANTED_CHARCOAL', 'ENCHANTED_BLAZE_POWDER', 'SUMMONING_EYE', 'SNOW_BLOCK', 'ENCHANTED_BAKED_POTATO', 'COMPACTOR', 'ENCHANTED_DIAMOND']\n"
     ]
    }
   ],
   "source": [
    "print(productList)"
   ]
  },
  {
   "cell_type": "code",
   "execution_count": 57,
   "metadata": {},
   "outputs": [],
   "source": [
    "#read the json file of the api data for the specifiecd item\n",
    "#convert to csv\n",
    "Product = pd.read_json('https://api.hypixel.net/skyblock/bazaar/product?key=892d18b2-f0a7-407b-93a7-90d158616f32&productId='+productList[6])\n",
    "Product.to_csv(productList[6]+'.csv')"
   ]
  },
  {
   "cell_type": "code",
   "execution_count": 58,
   "metadata": {},
   "outputs": [
    {
     "name": "stdout",
     "output_type": "stream",
     "text": [
      "ENCHANTED_SLIME_BALL.csv  Untitled.ipynb            products.csv\r\n"
     ]
    }
   ],
   "source": [
    "#make sure it worked\n",
    "%ls"
   ]
  },
  {
   "cell_type": "code",
   "execution_count": 59,
   "metadata": {},
   "outputs": [],
   "source": [
    "#read the new csv file\n",
    "Product = pd.read_csv(productList[6]+'.csv')"
   ]
  },
  {
   "cell_type": "code",
   "execution_count": 60,
   "metadata": {},
   "outputs": [
    {
     "name": "stdout",
     "output_type": "stream",
     "text": [
      "      Unnamed: 0  success                                       product_info  \\\n",
      "0    buy_summary     True  [{'amount': 7, 'pricePerUnit': 1440.7, 'orders...   \n",
      "1     product_id     True                               ENCHANTED_SLIME_BALL   \n",
      "2   quick_status     True  {'productId': 'ENCHANTED_SLIME_BALL', 'buyPric...   \n",
      "3   sell_summary     True  [{'amount': 785, 'pricePerUnit': 1668.7, 'orde...   \n",
      "4  week_historic     True  [{'productId': 'ENCHANTED_SLIME_BALL', 'timest...   \n",
      "\n",
      "                                             warning  \n",
      "0  This endpoint is deprecated and will soon be d...  \n",
      "1  This endpoint is deprecated and will soon be d...  \n",
      "2  This endpoint is deprecated and will soon be d...  \n",
      "3  This endpoint is deprecated and will soon be d...  \n",
      "4  This endpoint is deprecated and will soon be d...  \n"
     ]
    }
   ],
   "source": [
    "print(Product)"
   ]
  },
  {
   "cell_type": "code",
   "execution_count": 61,
   "metadata": {},
   "outputs": [
    {
     "name": "stdout",
     "output_type": "stream",
     "text": [
      "<class 'pandas.core.series.Series'>\n"
     ]
    }
   ],
   "source": [
    "#get quick summary of current buy price sell price ect..\n",
    "productCurrStatus=(Product.iloc[2,:])\n",
    "print(type(productCurrStatus))"
   ]
  },
  {
   "cell_type": "code",
   "execution_count": 62,
   "metadata": {},
   "outputs": [],
   "source": [
    "productCurrStatus=productCurrStatus.loc['product_info']"
   ]
  },
  {
   "cell_type": "code",
   "execution_count": 63,
   "metadata": {},
   "outputs": [],
   "source": [
    "#get data for the past week\n",
    "productWeekStatus=Product.iloc[4,:]"
   ]
  },
  {
   "cell_type": "code",
   "execution_count": 64,
   "metadata": {},
   "outputs": [],
   "source": [
    "#only take the portion of data that i need\n",
    "productWeekStatus=productWeekStatus.loc['product_info']\n",
    "productWeekStatus=productWeekStatus.split('}, ')"
   ]
  },
  {
   "cell_type": "code",
   "execution_count": 65,
   "metadata": {},
   "outputs": [],
   "source": [
    "from string import punctuation\n",
    "punctuation = punctuation.replace(':','')\n",
    "punctuation = punctuation.replace(',','')\n",
    "punctuation = punctuation.replace('_','')\n",
    "\n",
    "def removePunc(str1):\n",
    "    for punc in punctuation:\n",
    "        str1 = str1.replace(punc,'')\n",
    "    return str1"
   ]
  },
  {
   "cell_type": "code",
   "execution_count": 66,
   "metadata": {},
   "outputs": [
    {
     "name": "stdout",
     "output_type": "stream",
     "text": [
      "                                   0\n",
      "productId       ENCHANTED_SLIME_BALL\n",
      " timestamp             1588080856203\n",
      " nowBuyVolume                   5514\n",
      " nowSellVolume                 52789\n",
      " buyCoins          15285455999999996\n",
      " buyVolume                       838\n",
      " buys                             38\n",
      " sellCoins          3039142399999999\n",
      " sellVolume                     1564\n",
      " sells                            60\n"
     ]
    }
   ],
   "source": [
    "import re\n",
    "\n",
    "test = removePunc(productWeekStatus[1])\n",
    "test = re.split(': |,',test)\n",
    "vals = list()\n",
    "index = list()\n",
    "for i in range(len(test)):\n",
    "    if i % 2 ==0:\n",
    "        index.append(test[i])\n",
    "    else:\n",
    "        vals.append(test[i])\n",
    "print(pd.DataFrame(vals,index))"
   ]
  },
  {
   "cell_type": "code",
   "execution_count": null,
   "metadata": {},
   "outputs": [],
   "source": []
  }
 ],
 "metadata": {
  "kernelspec": {
   "display_name": "Python 3",
   "language": "python",
   "name": "python3"
  },
  "language_info": {
   "codemirror_mode": {
    "name": "ipython",
    "version": 3
   },
   "file_extension": ".py",
   "mimetype": "text/x-python",
   "name": "python",
   "nbconvert_exporter": "python",
   "pygments_lexer": "ipython3",
   "version": "3.7.3"
  }
 },
 "nbformat": 4,
 "nbformat_minor": 2
}
